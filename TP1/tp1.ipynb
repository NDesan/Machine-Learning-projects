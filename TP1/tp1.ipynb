{
 "cells": [
  {
   "cell_type": "code",
   "execution_count": 47,
   "metadata": {},
   "outputs": [
    {
     "name": "stdout",
     "output_type": "stream",
     "text": [
      "0      1\n",
      "1      1\n",
      "2      0\n",
      "3      1\n",
      "4      1\n",
      "      ..\n",
      "457    0\n",
      "458    1\n",
      "459    0\n",
      "460    0\n",
      "461    1\n",
      "Name: chd, Length: 462, dtype: int64\n"
     ]
    }
   ],
   "source": [
    "import random as rd\n",
    "import numpy as np\n",
    "import matplotlib.pyplot as plt\n",
    "from matplotlib.colors import ListedColormap\n",
    "import statistics as stat\n",
    "import math\n",
    "\n",
    "import pandas as pd \n",
    "\n",
    "data = pd.read_csv(\"SAheart.txt\", sep = ',')\n",
    "\n",
    "last_column_name = data.columns[-1]"
   ]
  },
  {
   "cell_type": "code",
   "execution_count": 48,
   "metadata": {},
   "outputs": [],
   "source": [
    "#The data\n",
    "\n",
    "N=500 \n",
    "xgauss1=[rd.gauss(0,1) for i in range(N)]\n",
    "xgauss2=[rd.gauss(0,1) for i in range(N)]\n"
   ]
  },
  {
   "cell_type": "code",
   "execution_count": 67,
   "metadata": {},
   "outputs": [
    {
     "name": "stdout",
     "output_type": "stream",
     "text": [
      "[[ 1. -1. -1. ...  1. -1. -1.]\n",
      " [-1.  1.  1. ... -1.  1.  1.]\n",
      " [-1.  1.  1. ... -1.  1.  1.]\n",
      " ...\n",
      " [ 1. -1. -1. ...  1. -1. -1.]\n",
      " [-1.  1.  1. ... -1.  1.  1.]\n",
      " [-1.  1.  1. ... -1.  1.  1.]]\n"
     ]
    }
   ],
   "source": [
    "#A labeled Data Set\n",
    "\n",
    "\n",
    "#group I\n",
    "\n",
    "mean_group_I = [2.5, 2.5]\n",
    "cov_group_I = [[2.0, -0.8], [-0.8, 2.0]]\n",
    "\n",
    "n1 = 100\n",
    "\n",
    "group_I_data = np.random.multivariate_normal(mean_group_I, cov_group_I, n1)\n",
    "\n",
    "labels_group_I = np.ones(n1)\n",
    "\n",
    "mean_I = np.mean(group_I_data)\n",
    "deviation_I = np.std(group_I_data)\n",
    "correlation_matrix_group_I = np.corrcoef(group_I_data)\n",
    "\n",
    "#group II\n",
    "\n",
    "mean_group_II = [0.0, 0.0]\n",
    "cov_group_II = [[1.0, 0.0], [0.0, 1.0]]\n",
    "\n",
    "n2 = 200\n",
    "\n",
    "group_II_data = np.random.multivariate_normal(mean_group_II, cov_group_II, n2)\n",
    "\n",
    "labels_group_II = np.zeros(n2)\n",
    "\n",
    "mean_II = np.mean(group_II_data)\n",
    "deviation_II = np.std(group_II_data)\n",
    "correlation_matrix_group_II = np.corrcoef(group_II_data)\n"
   ]
  },
  {
   "cell_type": "code",
   "execution_count": 68,
   "metadata": {},
   "outputs": [],
   "source": [
    "#x1 = xgauss1\n",
    "#X2 = xgauss2\n",
    "\n",
    "#Eval data\n",
    "#x1_min, x1_max = min(x1), max(x1)\n",
    "#x2_min, x2_max = min(x2), max(x2)\n",
    "#Neval=15; h1= (x1_max-x1_min)/Neval; h2=(x2_max-x2_min)/Neval\n",
    "#x1Eval, x2Eval= np.meshgrid(np.arange(x1_min, x1_max, h1), np.arange(x2_min, x2_max, h2));\n"
   ]
  },
  {
   "cell_type": "markdown",
   "metadata": {},
   "source": [
    "A first model of machine learning. The naive Bayes model\n",
    "\n",
    "Ici on écrit fk(x) = A*exp(B)"
   ]
  },
  {
   "cell_type": "code",
   "execution_count": 82,
   "metadata": {},
   "outputs": [
    {
     "name": "stdout",
     "output_type": "stream",
     "text": [
      "[[ 1.          0.13075771 -0.02863206 -0.06386361  0.03748544 -0.08687177\n",
      "  -0.03238472  0.12949303 -0.00371992         nan]\n",
      " [ 0.13075771  1.          0.18372644  0.15433871  0.40948255 -0.0765106\n",
      "   0.30746132  0.16764485  0.39707704         nan]\n",
      " [-0.02863206  0.18372644  1.          0.22959436  0.32909697  0.02091373\n",
      "   0.1705976   0.19744797  0.46338492         nan]\n",
      " [-0.06386361  0.15433871  0.22959436  1.          0.40729153  0.00981056\n",
      "   0.32158334  0.04105364  0.30947596         nan]\n",
      " [ 0.03748544  0.40948255  0.32909697  0.40729153  1.         -0.09124614\n",
      "   0.71090911  0.2140987   0.66038871         nan]\n",
      " [-0.08687177 -0.0765106   0.02091373  0.00981056 -0.09124614  1.\n",
      "   0.03391898  0.0901922  -0.12378813         nan]\n",
      " [-0.03238472  0.30746132  0.1705976   0.32158334  0.71090911  0.03391898\n",
      "   1.          0.15153784  0.33775412         nan]\n",
      " [ 0.12949303  0.16764485  0.19744797  0.04105364  0.2140987   0.0901922\n",
      "   0.15153784  1.          0.15290409         nan]\n",
      " [-0.00371992  0.39707704  0.46338492  0.30947596  0.66038871 -0.12378813\n",
      "   0.33775412  0.15290409  1.                 nan]\n",
      " [        nan         nan         nan         nan         nan         nan\n",
      "          nan         nan         nan         nan]]\n"
     ]
    }
   ],
   "source": [
    "\n",
    "\n",
    "def prior_probability(data):\n",
    "    \n",
    "    X = last_column_name\n",
    "    \n",
    "    num = 0\n",
    "    det = 0    \n",
    "    \n",
    "    for i in range(len(X)):\n",
    "        if(X[i]==0):\n",
    "            num += 1\n",
    "            det +=1\n",
    "            \n",
    "        else: \n",
    "            det +=1\n",
    "    \n",
    "    return [num/det, 1-num/det]\n",
    "    \n",
    "    \n",
    "    \n",
    "def probability(x, mu, sigma, k):\n",
    "    \n",
    "    p = len(mu) \n",
    "    \n",
    "    det = np.linalg.det(sigma)\n",
    "    \n",
    "    A = 1/((2*np.pi)^(p/2)*np.roots(det))\n",
    "    \n",
    "    B = -1/2*np.transpose(x-mu[k])*sigma[k]*np.linalg.inv()*(x-mu[k])\n",
    "    \n",
    "\n",
    "#def posterior_probability(data, p1, p2, n):\n",
    "    \n",
    "    \n",
    "#def MAP():\n",
    "\n",
    "data_I = data[data['chd']==0]\n",
    "data_II = data[data['chd']==1]\n",
    "\n",
    "real_data_mean_I = data_I.mean().values\n",
    "real_data_mean_II = data_II.mean().values\n",
    "\n",
    "real_correlation_matrix_group_I = data_I.corr().values\n",
    "real_correlation_matrix_group_II = data_II.corr().values\n",
    "\n",
    "\n",
    "def probability_I(x):\n",
    "    p=len(x)\n",
    "    \n",
    "    A = 1/((2*np.pi)^(p/2)*np.roots(np.linalg.det(real_correlation_matrix_group_I))\n",
    "    B = -1/2*\n",
    " \n",
    "     "
   ]
  }
 ],
 "metadata": {
  "kernelspec": {
   "display_name": "base",
   "language": "python",
   "name": "python3"
  },
  "language_info": {
   "codemirror_mode": {
    "name": "ipython",
    "version": 3
   },
   "file_extension": ".py",
   "mimetype": "text/x-python",
   "name": "python",
   "nbconvert_exporter": "python",
   "pygments_lexer": "ipython3",
   "version": "3.8.5"
  },
  "orig_nbformat": 4
 },
 "nbformat": 4,
 "nbformat_minor": 2
}
